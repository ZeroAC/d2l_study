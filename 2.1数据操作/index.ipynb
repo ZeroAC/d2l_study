{
 "cells": [
  {
   "cell_type": "markdown",
   "source": [
    "# vscode中jupyter notebook使用技巧\n",
    "\n",
    "## cell 命令模式快捷键\n",
    "注: 进入cell命令模式 只需要按`ESC`即可 命令模式下不区分大小写\n",
    "- `方向键用来操作选中的单元格`\n",
    "- `Shift+Enter` : 运行本单元，选中或插入（最后一个Cell的时候）下个单元\n",
    "- `Ctrl+Enter` : 运行本单元\n",
    "- `Alt+Enter` : 运行本单元，在其下插入新单元\n",
    "- `Y` : 单元转入代码状态\n",
    "- `M`:单元转入markdown状态 （目前尚不支持R 原生状态）\n",
    "- `Enter` : 转入编辑模式\n",
    "- `A` : 在上方插入新单元\n",
    "- `B` : 在下方插入新单元\n",
    "- `DD` : 删除选中的单元\n",
    "- `L` : 转换行号\n",
    "- `Shift+Space` : 向上滚动\n",
    "- `Space` : 向下滚动\n"
   ],
   "metadata": {}
  },
  {
   "cell_type": "code",
   "execution_count": 30,
   "source": [
    "# 引入pytorch框架\n",
    "import torch\n",
    "\n",
    "x = torch.arange(2,18,2) #创建行向量 从2到18 间隔为2\n",
    "\n",
    "print(x)\n",
    "\n",
    "print(x.shape) #获取张量的各个维数\n",
    "\n",
    "newX = x.reshape((2,2,-1)) #更改x的维数 -1表示按照总元素数 自动推导最后一维的个数\n",
    "\n",
    "print(newX)\n",
    "\n",
    "y = torch.zeros((2,3,4)) #创建全零矩阵 维数分别为(2,3,4)\n",
    "\n",
    "print(y)\n",
    "\n",
    "z = torch.ones((2,3,4))\n",
    "\n",
    "print(z)\n"
   ],
   "outputs": [
    {
     "output_type": "stream",
     "name": "stdout",
     "text": [
      "tensor([ 2,  4,  6,  8, 10, 12, 14, 16])\n",
      "torch.Size([8])\n",
      "tensor([[[ 2,  4],\n",
      "         [ 6,  8]],\n",
      "\n",
      "        [[10, 12],\n",
      "         [14, 16]]])\n",
      "tensor([[[0., 0., 0., 0.],\n",
      "         [0., 0., 0., 0.],\n",
      "         [0., 0., 0., 0.]],\n",
      "\n",
      "        [[0., 0., 0., 0.],\n",
      "         [0., 0., 0., 0.],\n",
      "         [0., 0., 0., 0.]]])\n"
     ]
    }
   ],
   "metadata": {}
  }
 ],
 "metadata": {
  "orig_nbformat": 4,
  "language_info": {
   "name": "python",
   "version": "3.8.5",
   "mimetype": "text/x-python",
   "codemirror_mode": {
    "name": "ipython",
    "version": 3
   },
   "pygments_lexer": "ipython3",
   "nbconvert_exporter": "python",
   "file_extension": ".py"
  },
  "kernelspec": {
   "name": "python3",
   "display_name": "Python 3.8.5 64-bit ('cv': conda)"
  },
  "interpreter": {
   "hash": "3a14354be428db890b240766593904592cb63a8036262423e22f244f201c3e6a"
  }
 },
 "nbformat": 4,
 "nbformat_minor": 2
}